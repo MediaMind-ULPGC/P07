{
 "cells": [
  {
   "cell_type": "markdown",
   "metadata": {},
   "source": [
    "# Práctica seguimiento\n",
    "\n",
    "Participantes:\n",
    "- Gerardo León Quintana\n",
    "- Susana Suárez Mendoza"
   ]
  },
  {
   "cell_type": "code",
   "execution_count": null,
   "metadata": {},
   "outputs": [],
   "source": [
    "import os\n",
    "import torch\n",
    "import ast"
   ]
  },
  {
   "cell_type": "markdown",
   "metadata": {},
   "source": [
    "## 1. Cargar los resultados"
   ]
  },
  {
   "cell_type": "code",
   "execution_count": 21,
   "metadata": {},
   "outputs": [],
   "source": [
    "def parse_txt_file(file_path):\n",
    "    data = {}\n",
    "    with open(file_path, 'r') as f:\n",
    "        for line in f:\n",
    "            if ':' in line:\n",
    "                key, value = line.split(':', 1)\n",
    "                key = key.strip()\n",
    "                try:\n",
    "                    value = ast.literal_eval(value.strip())\n",
    "                except (ValueError, SyntaxError):\n",
    "                    value = value.strip()\n",
    "                data[key] = value\n",
    "    return data\n",
    "\n",
    "def load_data_from_folder(folder_path):\n",
    "    data = {}\n",
    "\n",
    "    for filename in os.listdir(folder_path):\n",
    "        if filename.endswith('.txt'):\n",
    "            file_path = os.path.join(folder_path, filename)\n",
    "            method_name = os.path.splitext(filename)[0]\n",
    "            print(f'Loading data for method {method_name} from {file_path}')\n",
    "\n",
    "            file_data = parse_txt_file(file_path)\n",
    "            data[method_name] = file_data\n",
    "    \n",
    "    return data"
   ]
  },
  {
   "cell_type": "code",
   "execution_count": 23,
   "metadata": {},
   "outputs": [
    {
     "name": "stdout",
     "output_type": "stream",
     "text": [
      "Loading data for method tracking_farneback from ./resultados\\tracking_farneback.txt\n",
      "Loading data for method tracking_lk_mano from ./resultados\\tracking_lk_mano.txt\n",
      "Loading data for method tracking_lk_opencv from ./resultados\\tracking_lk_opencv.txt\n",
      "Loading data for method tracking_raft from ./resultados\\tracking_raft.txt\n",
      "Loading data for method tracking_raft_large from ./resultados\\tracking_raft_large.txt\n",
      "Loading data for method tracking_raft_small from ./resultados\\tracking_raft_small.txt\n",
      "Loading data for method tracking_yolo from ./resultados\\tracking_yolo.txt\n"
     ]
    }
   ],
   "source": [
    "folder_path = './resultados'\n",
    "\n",
    "loaded_data = load_data_from_folder(folder_path)"
   ]
  },
  {
   "cell_type": "code",
   "execution_count": null,
   "metadata": {},
   "outputs": [],
   "source": []
  },
  {
   "cell_type": "code",
   "execution_count": null,
   "metadata": {},
   "outputs": [],
   "source": []
  }
 ],
 "metadata": {
  "kernelspec": {
   "display_name": "piav",
   "language": "python",
   "name": "python3"
  },
  "language_info": {
   "codemirror_mode": {
    "name": "ipython",
    "version": 3
   },
   "file_extension": ".py",
   "mimetype": "text/x-python",
   "name": "python",
   "nbconvert_exporter": "python",
   "pygments_lexer": "ipython3",
   "version": "3.10.14"
  }
 },
 "nbformat": 4,
 "nbformat_minor": 2
}
