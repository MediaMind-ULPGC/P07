{
 "cells": [
  {
   "cell_type": "code",
   "execution_count": 5,
   "metadata": {},
   "outputs": [
    {
     "ename": "error",
     "evalue": "OpenCV(4.10.0) D:\\a\\opencv-python\\opencv-python\\opencv\\modules\\imgproc\\src\\color.cpp:196: error: (-215:Assertion failed) !_src.empty() in function 'cv::cvtColor'\n",
     "output_type": "error",
     "traceback": [
      "\u001b[1;31m---------------------------------------------------------------------------\u001b[0m",
      "\u001b[1;31merror\u001b[0m                                     Traceback (most recent call last)",
      "Cell \u001b[1;32mIn[5], line 11\u001b[0m\n\u001b[0;32m      9\u001b[0m \u001b[38;5;66;03m# toma la primera imagen\u001b[39;00m\n\u001b[0;32m     10\u001b[0m status, old_frame \u001b[38;5;241m=\u001b[39m frame\u001b[38;5;241m.\u001b[39mread()\n\u001b[1;32m---> 11\u001b[0m old_gray \u001b[38;5;241m=\u001b[39m \u001b[43mcv2\u001b[49m\u001b[38;5;241;43m.\u001b[39;49m\u001b[43mcvtColor\u001b[49m\u001b[43m(\u001b[49m\u001b[43mold_frame\u001b[49m\u001b[43m,\u001b[49m\u001b[43m \u001b[49m\u001b[43mcv2\u001b[49m\u001b[38;5;241;43m.\u001b[39;49m\u001b[43mCOLOR_BGR2GRAY\u001b[49m\u001b[43m)\u001b[49m\n\u001b[0;32m     14\u001b[0m \u001b[38;5;66;03m#inicializo una imagen para añadir los resultados en blanco\u001b[39;00m\n\u001b[0;32m     15\u001b[0m result2 \u001b[38;5;241m=\u001b[39m  np\u001b[38;5;241m.\u001b[39mzeros_like(old_gray)\n",
      "\u001b[1;31merror\u001b[0m: OpenCV(4.10.0) D:\\a\\opencv-python\\opencv-python\\opencv\\modules\\imgproc\\src\\color.cpp:196: error: (-215:Assertion failed) !_src.empty() in function 'cv::cvtColor'\n"
     ]
    }
   ],
   "source": [
    "import numpy as np\n",
    "import cv2\n",
    "\n",
    "frame= cv2.VideoCapture(0)\n",
    "\n",
    "# crea colores aleatorios\n",
    "color = np.random.randint(0,255,(100,3))\n",
    "\n",
    "# toma la primera imagen\n",
    "status, old_frame = frame.read()\n",
    "old_gray = cv2.cvtColor(old_frame, cv2.COLOR_BGR2GRAY)\n",
    "\n",
    "\n",
    "#inicializo una imagen para añadir los resultados en blanco\n",
    "result2 =  np.zeros_like(old_gray)\n",
    "int = 0\n",
    "while status:\n",
    "        #captura la imagen 2\n",
    "        ret, img = frame.read()\n",
    "        gray = cv2.cvtColor(img, cv2.COLOR_BGR2GRAY)\n",
    "      \n",
    "        #calcula la diferencia\n",
    "        result =  gray - old_gray\n",
    "        result[result<50]= 255\n",
    "        result2 = result + result2\n",
    "        result2[result2>250] = 255\n",
    "        if int> 20:\n",
    "          cv2.imshow('foto',result2)\n",
    "          result2 =  255*np.ones_like(old_gray) \n",
    "          int = 0  \n",
    "    \n",
    "        cv2.imshow('frame', result2)\n",
    "        # actualiza la imagen 1\n",
    "        old_gray = gray.copy()\n",
    "        if cv2.waitKey(1)==27:\n",
    "            status = False   \n",
    "        int +=1\n",
    "            \n",
    "    \n",
    "frame.release()\n",
    "cv2.waitKey(0)\n",
    "cv2.destroyAllWindows()"
   ]
  },
  {
   "cell_type": "code",
   "execution_count": null,
   "metadata": {},
   "outputs": [],
   "source": []
  }
 ],
 "metadata": {
  "kernelspec": {
   "display_name": "aa1",
   "language": "python",
   "name": "python3"
  },
  "language_info": {
   "codemirror_mode": {
    "name": "ipython",
    "version": 3
   },
   "file_extension": ".py",
   "mimetype": "text/x-python",
   "name": "python",
   "nbconvert_exporter": "python",
   "pygments_lexer": "ipython3",
   "version": "3.10.9"
  }
 },
 "nbformat": 4,
 "nbformat_minor": 2
}
