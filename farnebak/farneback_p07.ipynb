{
 "cells": [
  {
   "cell_type": "markdown",
   "metadata": {},
   "source": [
    "# Práctica 7: Detección de Objetos"
   ]
  },
  {
   "cell_type": "code",
   "execution_count": 2,
   "metadata": {},
   "outputs": [],
   "source": [
    "import cv2 as cv\n",
    "import numpy as np"
   ]
  },
  {
   "cell_type": "markdown",
   "metadata": {},
   "source": [
    "## 1. Webcam"
   ]
  },
  {
   "cell_type": "code",
   "execution_count": null,
   "metadata": {},
   "outputs": [],
   "source": [
    "frame = cv.VideoCapture(0)\n",
    "color = np.random.randint(0, 255, (100, 3))\n",
    "\n",
    "status, old_frame = frame.read()\n",
    "if not status:\n",
    "    print(\"No se pudo acceder a la cámara.\")\n",
    "    exit()\n",
    "\n",
    "old_gray = cv.cvtColor(old_frame, cv.COLOR_BGR2GRAY)\n",
    "\n",
    "h, w = old_gray.shape\n",
    "result_frame = np.zeros((h, w, 3), dtype=np.uint8)\n",
    "\n",
    "while True:\n",
    "    ret, frame2 = frame.read()\n",
    "    if not ret:\n",
    "        break\n",
    "\n",
    "    gray = cv.cvtColor(frame2, cv.COLOR_BGR2GRAY)\n",
    "\n",
    "    flow = cv.calcOpticalFlowFarneback(old_gray, gray, None, \n",
    "                                        pyr_scale=0.5, levels=3, \n",
    "                                        winsize=15, iterations=3, \n",
    "                                        poly_n=5, poly_sigma=1.2, flags=0)\n",
    "\n",
    "    step = 16\n",
    "    y, x = np.mgrid[step//2:h:step, step//2:w:step].reshape(2, -1).astype(int)\n",
    "    fx, fy = flow[y, x].T\n",
    "    lines = np.vstack([x, y, x + fx, y + fy]).T.reshape(-1, 2, 2)\n",
    "    lines = np.int32(lines)\n",
    "\n",
    "    result_frame = cv.addWeighted(result_frame, 0.8, frame2, 0.2, 0)\n",
    "    for (x1, y1), (x2, y2) in lines:\n",
    "        cv.line(result_frame, (x1, y1), (x2, y2), (0, 255, 0), 1)\n",
    "        cv.circle(result_frame, (x1, y1), 1, (0, 255, 0), -1)\n",
    "\n",
    "    cv.imshow('Flujo óptico - Farneback', result_frame)\n",
    "\n",
    "    old_gray = gray.copy()\n",
    "\n",
    "    if cv.waitKey(1) & 0xFF == 27:\n",
    "        break\n",
    "\n",
    "frame.release()\n",
    "cv.destroyAllWindows()"
   ]
  },
  {
   "cell_type": "markdown",
   "metadata": {},
   "source": [
    "## 2. Video de personas"
   ]
  },
  {
   "cell_type": "code",
   "execution_count": null,
   "metadata": {},
   "outputs": [],
   "source": [
    "video = cv.VideoCapture(\"../videos/people2.mp4\")\n",
    "\n",
    "if not video.isOpened():\n",
    "    print(\"No se pudo abrir el video.\")\n",
    "    exit()\n",
    "\n",
    "ret, old_frame = video.read()\n",
    "if not ret:\n",
    "    print(\"No se pudo leer el primer cuadro del video.\")\n",
    "    exit()\n",
    "\n",
    "old_gray = cv.cvtColor(old_frame, cv.COLOR_BGR2GRAY)\n",
    "\n",
    "h, w = old_gray.shape\n",
    "result_frame = np.zeros((h, w, 3), dtype=np.uint8)\n",
    "\n",
    "while True:\n",
    "    ret, frame2 = video.read()\n",
    "    if not ret:\n",
    "        break\n",
    "\n",
    "    gray = cv.cvtColor(frame2, cv.COLOR_BGR2GRAY)\n",
    "\n",
    "    flow = cv.calcOpticalFlowFarneback(old_gray, gray, None, \n",
    "                                       pyr_scale=0.5, levels=3, \n",
    "                                       winsize=15, iterations=3, \n",
    "                                       poly_n=5, poly_sigma=1.2, flags=0)\n",
    "\n",
    "    step = 16 \n",
    "    y, x = np.mgrid[step//2:h:step, step//2:w:step].reshape(2, -1).astype(int)\n",
    "    fx, fy = flow[y, x].T\n",
    "    lines = np.vstack([x, y, x + fx, y + fy]).T.reshape(-1, 2, 2)\n",
    "    lines = np.int32(lines)\n",
    "\n",
    "    result_frame = cv.addWeighted(result_frame, 0.8, frame2, 0.2, 0)\n",
    "    for (x1, y1), (x2, y2) in lines:\n",
    "        cv.line(result_frame, (x1, y1), (x2, y2), (0, 255, 0), 1)\n",
    "        cv.circle(result_frame, (x1, y1), 1, (0, 255, 0), -1)\n",
    "\n",
    "    cv.imshow('Flujo óptico - Farneback', result_frame)\n",
    "\n",
    "    old_gray = gray.copy()\n",
    "\n",
    "    if cv.waitKey(1) & 0xFF == 27:\n",
    "        break\n",
    "\n",
    "video.release()\n",
    "cv.destroyAllWindows()\n"
   ]
  },
  {
   "cell_type": "code",
   "execution_count": null,
   "metadata": {},
   "outputs": [],
   "source": []
  }
 ],
 "metadata": {
  "kernelspec": {
   "display_name": "piav",
   "language": "python",
   "name": "python3"
  },
  "language_info": {
   "codemirror_mode": {
    "name": "ipython",
    "version": 3
   },
   "file_extension": ".py",
   "mimetype": "text/x-python",
   "name": "python",
   "nbconvert_exporter": "python",
   "pygments_lexer": "ipython3",
   "version": "3.10.14"
  }
 },
 "nbformat": 4,
 "nbformat_minor": 2
}
